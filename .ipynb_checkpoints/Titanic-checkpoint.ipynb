{
 "cells": [
  {
   "cell_type": "markdown",
   "id": "fa5116fa",
   "metadata": {},
   "source": [
    "<h1><b>Will You Survive On Titanic AI</b></h1>\n",
    "<h2>Importing Libraries and Database</h2>"
   ]
  },
  {
   "cell_type": "code",
   "execution_count": 8,
   "id": "025120c2",
   "metadata": {},
   "outputs": [],
   "source": [
    "import numpy as np\n",
    "import random as rn\n",
    "import pandas as pd\n",
    "import seaborn as sns"
   ]
  },
  {
   "cell_type": "code",
   "execution_count": 9,
   "id": "2285c122",
   "metadata": {},
   "outputs": [],
   "source": [
    "titanic = pd.read_csv(r\"titanic.csv\")\n",
    "titanic.head()"
   ]
  },
  {
   "cell_type": "code",
   "execution_count": 10,
   "id": "f901e123",
   "metadata": {},
   "outputs": [],
   "source": [
    "sns.pairplot(titanic, hue=\"Survived\")"
   ]
  },
  {
   "cell_type": "markdown",
   "id": "0f177883",
   "metadata": {},
   "source": [
    "<h1>Data Cleanup</h1>"
   ]
  },
  {
   "cell_type": "code",
   "execution_count": 11,
   "id": "e8181225",
   "metadata": {},
   "outputs": [],
   "source": [
    "titanic = titanic.drop(columns=['Name', 'Cabin','Embarked','Ticket'])\n",
    "titanic.head()"
   ]
  },
  {
   "cell_type": "code",
   "execution_count": 12,
   "id": "99f8ebea",
   "metadata": {},
   "outputs": [],
   "source": [
    "class DataProcessing:\n",
    "    @staticmethod\n",
    "    def shuffle(x):\n",
    "        for i in range(len(x)-1,0,-1):\n",
    "            j=rn.randint(0,i-1)\n",
    "            x.iloc[j], x.iloc[i] = x.iloc[i], x.iloc[j]\n",
    "            \n",
    "    @staticmethod\n",
    "    def normalization(x):\n",
    "        values=x.select_dtypes(exclude=\"object\")\n",
    "        columnNames=values.columns.tolist()\n",
    "        for column in columnNames:\n",
    "            data = x.loc[:,column]\n",
    "            max1=max(data)\n",
    "            min1=min(data)\n",
    "            for row in range(0,len(x),1):\n",
    "                xprim=(x.at[row,column]-min1)/(max1-min1)\n",
    "                x.at[row,column]=xprim \n",
    "                \n",
    "    @staticmethod\n",
    "    def split(x,k):\n",
    "        return x[:int(len(x)*k//1)], x[int(len(x)*k//1 +1):]"
   ]
  },
  {
   "cell_type": "code",
   "execution_count": 13,
   "id": "278099f9",
   "metadata": {},
   "outputs": [],
   "source": [
    "DataProcessing.shuffle(titanic)\n",
    "\n",
    "for row in range(len(titanic)-1,-1,-1):\n",
    "    if titanic.at[row,'Sex']==\"male\":\n",
    "        titanic.at[row,'Sex']=1\n",
    "    elif titanic.at[row,'Sex']==\"female\":\n",
    "        titanic.at[row,'Sex']=0\n",
    "    else:\n",
    "        titanic = titanic.drop(row,axis=0)\n",
    "\n",
    "values=titanic.select_dtypes(exclude=\"object\")\n",
    "columnNames=values.columns.tolist()\n",
    "for column in columnNames:\n",
    "    for row in range(len(titanic)-1,-1,-1):\n",
    "        if isinstance(titanic.at[row,column], float):\n",
    "            pass\n",
    "        else:\n",
    "            print(titanic.iloc[row])\n",
    "            titanic = titanic.drop(row,axis=0)\n",
    "  \n",
    "    \n",
    "\n",
    "titanic.head()\n"
   ]
  },
  {
   "cell_type": "code",
   "execution_count": 14,
   "id": "0edeec0e",
   "metadata": {},
   "outputs": [],
   "source": [
    "trainingSet, validatingSet = DataProcessing.split(titanic,0.7)"
   ]
  },
  {
   "cell_type": "code",
   "execution_count": null,
   "id": "86735446",
   "metadata": {},
   "outputs": [],
   "source": []
  },
  {
   "cell_type": "code",
   "execution_count": null,
   "id": "70be4ce5",
   "metadata": {},
   "outputs": [],
   "source": []
  }
 ],
 "metadata": {
  "kernelspec": {
   "display_name": "Python 3 (ipykernel)",
   "language": "python",
   "name": "python3"
  },
  "language_info": {
   "codemirror_mode": {
    "name": "ipython",
    "version": 3
   },
   "file_extension": ".py",
   "mimetype": "text/x-python",
   "name": "python",
   "nbconvert_exporter": "python",
   "pygments_lexer": "ipython3",
   "version": "3.11.1"
  }
 },
 "nbformat": 4,
 "nbformat_minor": 5
}
